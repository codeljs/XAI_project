{
 "cells": [
  {
   "cell_type": "code",
   "execution_count": 19,
   "metadata": {},
   "outputs": [],
   "source": [
    "import os\n",
    "from skimage import io, transform, color\n",
    "# Set the input and output paths\n",
    "input_folder = '/Users/jiashuoli/Documents/GitHub/XAI_project/'\n",
    "output_folder = '/Users/jiashuoli/Documents/GitHub/XAI_project/result/'\n",
    "\n",
    "# Create the output folder if it doesn't exist\n",
    "if not os.path.exists(output_folder):\n",
    "    os.makedirs(output_folder)\n",
    "\n",
    "# Loop through each image and upscale the resolution\n",
    "for file_name in os.listdir(input_folder):\n",
    "    if file_name.endswith('.png'):\n",
    "        # Set the input and output paths\n",
    "        input_path = os.path.join(input_folder, file_name)\n",
    "        output_path = os.path.join(output_folder, f\"{file_name.split('.')[0]}_scikit-image.png\")\n",
    "\n",
    "        # Load the image\n",
    "        img = io.imread(input_path)\n",
    "\n",
    "        # Upscale the image using scikit-image\n",
    "        upscaled_img = transform.resize(img, output_shape=(img.shape[0] * 4, img.shape[1] * 4), anti_aliasing=True)\n",
    "\n",
    "        # Convert the image to 8-bit integer format\n",
    "        upscaled_img = (upscaled_img * 255).astype('uint8')\n",
    "\n",
    "        # Save the upscaled image\n",
    "        io.imsave(output_path, upscaled_img)\n"
   ]
  },
  {
   "cell_type": "code",
   "execution_count": null,
   "metadata": {},
   "outputs": [],
   "source": []
  }
 ],
 "metadata": {
  "kernelspec": {
   "display_name": "base",
   "language": "python",
   "name": "python3"
  },
  "language_info": {
   "codemirror_mode": {
    "name": "ipython",
    "version": 3
   },
   "file_extension": ".py",
   "mimetype": "text/x-python",
   "name": "python",
   "nbconvert_exporter": "python",
   "pygments_lexer": "ipython3",
   "version": "3.9.13"
  },
  "orig_nbformat": 4,
  "vscode": {
   "interpreter": {
    "hash": "38cca0c38332a56087b24af0bc80247f4fced29cb4f7f437d91dc159adec9c4e"
   }
  }
 },
 "nbformat": 4,
 "nbformat_minor": 2
}
